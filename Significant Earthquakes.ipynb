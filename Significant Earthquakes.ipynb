{
 "cells": [
  {
   "cell_type": "markdown",
   "metadata": {},
   "source": [
    "# Significant Earthquakes since 2150 BC\n",
    "\n",
    "This dataset is from NOAA's Significant Earthquake Database, extracted on October 16.\n",
    "\n",
    "[Here's a link to their page](https://www.ngdc.noaa.gov/nndc/struts/results?bt_0=&st_0=&type_17=EXACT&query_17=None+Selected&op_12=eq&v_12=&type_12=Or&query_14=None+Selected&type_3=Like&query_3=&st_1=&bt_2=&st_2=&bt_1=&bt_4=&st_4=&bt_5=&st_5=&bt_6=&st_6=&bt_7=&st_7=&bt_8=&st_8=&bt_9=&st_9=&bt_10=&st_10=&type_11=Exact&query_11=&type_16=Exact&query_16=&bt_18=&st_18=&ge_19=&le_19=&type_20=Like&query_20=&display_look=1&t=101650&s=1&submit_all=Search+Database)\n",
    "\n",
    "Here's a preview I made using the dataset.\n",
    "\n",
    "![Thumbnail](earthquakes.png \"Significant Earthquakes\")\n",
    "\n",
    "My goal here was to demonstrate some of the things you can do with Jupyter Notebook, Pandas, and BeautifulSoup by scraping data from a web page and save it into a more useable CSV format.\n",
    "\n",
    "Here's a link to the raw CSV data: https://raw.githubusercontent.com/benjiao/significant-earthquakes/master/earthquakes.csv"
   ]
  },
  {
   "cell_type": "code",
   "execution_count": 1,
   "metadata": {
    "collapsed": true
   },
   "outputs": [],
   "source": [
    "%matplotlib inline\n",
    "\n",
    "import requests"
   ]
  },
  {
   "cell_type": "markdown",
   "metadata": {},
   "source": [
    "### Fetch data"
   ]
  },
  {
   "cell_type": "code",
   "execution_count": 2,
   "metadata": {
    "collapsed": true
   },
   "outputs": [],
   "source": [
    "response = requests.get(\"https://www.ngdc.noaa.gov/nndc/struts/results?bt_0=&st_0=&type_17=EXACT&query_17=None+Selected&op_12=eq&v_12=&type_12=Or&query_14=None+Selected&type_3=Like&query_3=&st_1=&bt_2=&st_2=&bt_1=&bt_4=&st_4=&bt_5=&st_5=&bt_6=&st_6=&bt_7=&st_7=&bt_8=&st_8=&bt_9=&st_9=&bt_10=&st_10=&type_11=Exact&query_11=&type_16=Exact&query_16=&bt_18=&st_18=&ge_19=&le_19=&type_20=Like&query_20=&display_look=1&t=101650&s=1&submit_all=Search+Database\")"
   ]
  },
  {
   "cell_type": "markdown",
   "metadata": {},
   "source": [
    "### Parse response\n",
    "\n",
    "Here we use beautiful soup to read the HTML response."
   ]
  },
  {
   "cell_type": "code",
   "execution_count": 3,
   "metadata": {
    "collapsed": true
   },
   "outputs": [],
   "source": [
    "from bs4 import BeautifulSoup\n",
    "soup = BeautifulSoup(response.content, 'html.parser')"
   ]
  },
  {
   "cell_type": "markdown",
   "metadata": {},
   "source": [
    "Upon inspection of the the page, there are 3 tables. The third one is the one that contains the data we need. The rest were being used for the page layout."
   ]
  },
  {
   "cell_type": "code",
   "execution_count": 4,
   "metadata": {},
   "outputs": [
    {
     "data": {
      "text/plain": [
       "5966"
      ]
     },
     "execution_count": 4,
     "metadata": {},
     "output_type": "execute_result"
    }
   ],
   "source": [
    "tables = soup.find_all('table')\n",
    "all_rows = tables[2].find_all('tr')\n",
    "len(all_rows)"
   ]
  },
  {
   "cell_type": "markdown",
   "metadata": {},
   "source": [
    "The first 2 rows contain headers..."
   ]
  },
  {
   "cell_type": "code",
   "execution_count": 5,
   "metadata": {},
   "outputs": [
    {
     "data": {
      "text/plain": [
       "5963"
      ]
     },
     "execution_count": 5,
     "metadata": {},
     "output_type": "execute_result"
    }
   ],
   "source": [
    "rows = all_rows[3:]\n",
    "len(rows)"
   ]
  },
  {
   "cell_type": "markdown",
   "metadata": {},
   "source": [
    "### Build JSON data\n",
    "\n",
    "To keep things clean and reusable, we build a function for mapping columns into a Python dictionary object.\n",
    "\n",
    "We also use Shapely to format coordinates into WKT Points\n"
   ]
  },
  {
   "cell_type": "code",
   "execution_count": 6,
   "metadata": {},
   "outputs": [
    {
     "data": {
      "text/plain": [
       "{'damage': '11',\n",
       " 'day': 23,\n",
       " 'deaths': None,\n",
       " 'focal_depth': '31',\n",
       " 'hour': 20,\n",
       " 'houses_damaged': None,\n",
       " 'houses_destroyed': None,\n",
       " 'location': 'POINT (124.8739999999999952 7.6289999999999996)',\n",
       " 'magnitude': '5.7',\n",
       " 'minute': 47,\n",
       " 'mmi_int': None,\n",
       " 'month': 9,\n",
       " 'name': 'PHILIPPINES: MINDANAO: LANAO DEL SUR PROVINCE',\n",
       " 'second': '8.0',\n",
       " 'year': 2017}"
      ]
     },
     "execution_count": 6,
     "metadata": {},
     "output_type": "execute_result"
    }
   ],
   "source": [
    "from shapely.geometry import Point\n",
    "from shapely.wkt import dumps\n",
    "\n",
    "def parse_row(data):\n",
    "    columns = data.find_all(\"td\")\n",
    "    \n",
    "    \n",
    "    try:\n",
    "        location = dumps(Point(float(columns[11].string.strip()), float(columns[10].string.strip())))\n",
    "    except (AttributeError, ValueError):\n",
    "        location = None\n",
    "    except:\n",
    "        print(\"Year: {}, {} {}\".format(columns[0].string.strip(), columns[10].string, columns[11].string))\n",
    "        \n",
    "    return {\n",
    "        \"year\": int(columns[0].string.strip()) if columns[0].string is not None else None,\n",
    "        \"month\": int(columns[1].string.strip()) if columns[1].string is not None else None,\n",
    "        \"day\": int(columns[2].string.strip()) if columns[2].string is not None else None,\n",
    "        \"hour\": int(columns[3].string.strip()) if columns[3].string is not None else None,\n",
    "        \"minute\": int(columns[4].string.strip()) if columns[4].string is not None else None,\n",
    "        \"second\": columns[5].string.strip() if columns[5].string is not None else None,\n",
    "        \"name\": columns[9].string.strip() if columns[9].string is not None else None,\n",
    "        \"location\": location,\n",
    "        \"focal_depth\": columns[12].string.strip() if columns[12].string is not None else None,\n",
    "        \"magnitude\": columns[13].string.strip() if columns[13].string is not None else None,\n",
    "        \"mmi_int\": columns[14].string.strip() if columns[14].string is not None else None, # Modified Mercalli Intensity (MMI)\n",
    "        \"deaths\": columns[15].string.strip() if columns[15].string is not None else None,\n",
    "        \"damage\": columns[17].string.strip() if columns[17].string is not None else None, # In million $\n",
    "        \"houses_destroyed\": columns[19].string.strip() if columns[19].string is not None else None, # In million $\n",
    "        \"houses_damaged\": columns[21].string.strip() if columns[21].string is not None else None, # In million $\n",
    "    }\n",
    "\n",
    "parse_row(rows[5962])"
   ]
  },
  {
   "cell_type": "markdown",
   "metadata": {},
   "source": [
    "Run the parser on all rows..."
   ]
  },
  {
   "cell_type": "code",
   "execution_count": 7,
   "metadata": {
    "collapsed": true
   },
   "outputs": [],
   "source": [
    "rows_dict = [parse_row(row) for row in rows]"
   ]
  },
  {
   "cell_type": "markdown",
   "metadata": {},
   "source": [
    "### Read data using Pandas\n",
    "\n",
    "This will allow us to check basic stats on our data"
   ]
  },
  {
   "cell_type": "code",
   "execution_count": 8,
   "metadata": {
    "collapsed": true
   },
   "outputs": [],
   "source": [
    "import pandas"
   ]
  },
  {
   "cell_type": "code",
   "execution_count": 9,
   "metadata": {},
   "outputs": [
    {
     "data": {
      "text/html": [
       "<div>\n",
       "<style>\n",
       "    .dataframe thead tr:only-child th {\n",
       "        text-align: right;\n",
       "    }\n",
       "\n",
       "    .dataframe thead th {\n",
       "        text-align: left;\n",
       "    }\n",
       "\n",
       "    .dataframe tbody tr th {\n",
       "        vertical-align: top;\n",
       "    }\n",
       "</style>\n",
       "<table border=\"1\" class=\"dataframe\">\n",
       "  <thead>\n",
       "    <tr style=\"text-align: right;\">\n",
       "      <th></th>\n",
       "      <th>damage</th>\n",
       "      <th>day</th>\n",
       "      <th>deaths</th>\n",
       "      <th>focal_depth</th>\n",
       "      <th>hour</th>\n",
       "      <th>houses_damaged</th>\n",
       "      <th>houses_destroyed</th>\n",
       "      <th>location</th>\n",
       "      <th>magnitude</th>\n",
       "      <th>minute</th>\n",
       "      <th>mmi_int</th>\n",
       "      <th>month</th>\n",
       "      <th>name</th>\n",
       "      <th>second</th>\n",
       "      <th>year</th>\n",
       "    </tr>\n",
       "  </thead>\n",
       "  <tbody>\n",
       "    <tr>\n",
       "      <th>0</th>\n",
       "      <td>None</td>\n",
       "      <td>NaN</td>\n",
       "      <td>None</td>\n",
       "      <td>None</td>\n",
       "      <td>NaN</td>\n",
       "      <td>None</td>\n",
       "      <td>None</td>\n",
       "      <td>POINT (35.5000000000000000 31.1000000000000014)</td>\n",
       "      <td>7.3</td>\n",
       "      <td>NaN</td>\n",
       "      <td>None</td>\n",
       "      <td>NaN</td>\n",
       "      <td>JORDAN:  BAB-A-DARAA,AL-KARAK</td>\n",
       "      <td></td>\n",
       "      <td>-2150</td>\n",
       "    </tr>\n",
       "    <tr>\n",
       "      <th>1</th>\n",
       "      <td>None</td>\n",
       "      <td>NaN</td>\n",
       "      <td>None</td>\n",
       "      <td>None</td>\n",
       "      <td>NaN</td>\n",
       "      <td>None</td>\n",
       "      <td>None</td>\n",
       "      <td>POINT (35.7999999999999972 35.6829999999999998)</td>\n",
       "      <td>None</td>\n",
       "      <td>NaN</td>\n",
       "      <td>10</td>\n",
       "      <td>NaN</td>\n",
       "      <td>SYRIA:  UGARIT</td>\n",
       "      <td>None</td>\n",
       "      <td>-2000</td>\n",
       "    </tr>\n",
       "    <tr>\n",
       "      <th>2</th>\n",
       "      <td>None</td>\n",
       "      <td>NaN</td>\n",
       "      <td>1</td>\n",
       "      <td>18</td>\n",
       "      <td>NaN</td>\n",
       "      <td>None</td>\n",
       "      <td>None</td>\n",
       "      <td>POINT (58.2000000000000028 38.0000000000000000)</td>\n",
       "      <td>7.1</td>\n",
       "      <td>NaN</td>\n",
       "      <td>10</td>\n",
       "      <td>NaN</td>\n",
       "      <td>TURKMENISTAN:  W</td>\n",
       "      <td>None</td>\n",
       "      <td>-2000</td>\n",
       "    </tr>\n",
       "    <tr>\n",
       "      <th>3</th>\n",
       "      <td>None</td>\n",
       "      <td>NaN</td>\n",
       "      <td>None</td>\n",
       "      <td>None</td>\n",
       "      <td>NaN</td>\n",
       "      <td>None</td>\n",
       "      <td>None</td>\n",
       "      <td>POINT (25.3999999999999986 36.3999999999999986)</td>\n",
       "      <td>None</td>\n",
       "      <td>NaN</td>\n",
       "      <td>None</td>\n",
       "      <td>NaN</td>\n",
       "      <td>GREECE:  THERA ISLAND (SANTORINI)</td>\n",
       "      <td>None</td>\n",
       "      <td>-1610</td>\n",
       "    </tr>\n",
       "    <tr>\n",
       "      <th>4</th>\n",
       "      <td>None</td>\n",
       "      <td>NaN</td>\n",
       "      <td>None</td>\n",
       "      <td>None</td>\n",
       "      <td>NaN</td>\n",
       "      <td>None</td>\n",
       "      <td>None</td>\n",
       "      <td>POINT (35.2999999999999972 31.5000000000000000)</td>\n",
       "      <td>None</td>\n",
       "      <td>NaN</td>\n",
       "      <td>10</td>\n",
       "      <td>NaN</td>\n",
       "      <td>ISRAEL:  ARIHA (JERICHO)</td>\n",
       "      <td></td>\n",
       "      <td>-1566</td>\n",
       "    </tr>\n",
       "  </tbody>\n",
       "</table>\n",
       "</div>"
      ],
      "text/plain": [
       "  damage  day deaths focal_depth  hour houses_damaged houses_destroyed  \\\n",
       "0   None  NaN   None        None   NaN           None             None   \n",
       "1   None  NaN   None        None   NaN           None             None   \n",
       "2   None  NaN      1          18   NaN           None             None   \n",
       "3   None  NaN   None        None   NaN           None             None   \n",
       "4   None  NaN   None        None   NaN           None             None   \n",
       "\n",
       "                                          location magnitude  minute mmi_int  \\\n",
       "0  POINT (35.5000000000000000 31.1000000000000014)       7.3     NaN    None   \n",
       "1  POINT (35.7999999999999972 35.6829999999999998)      None     NaN      10   \n",
       "2  POINT (58.2000000000000028 38.0000000000000000)       7.1     NaN      10   \n",
       "3  POINT (25.3999999999999986 36.3999999999999986)      None     NaN    None   \n",
       "4  POINT (35.2999999999999972 31.5000000000000000)      None     NaN      10   \n",
       "\n",
       "   month                               name second  year  \n",
       "0    NaN      JORDAN:  BAB-A-DARAA,AL-KARAK        -2150  \n",
       "1    NaN                     SYRIA:  UGARIT   None -2000  \n",
       "2    NaN                   TURKMENISTAN:  W   None -2000  \n",
       "3    NaN  GREECE:  THERA ISLAND (SANTORINI)   None -1610  \n",
       "4    NaN           ISRAEL:  ARIHA (JERICHO)        -1566  "
      ]
     },
     "execution_count": 9,
     "metadata": {},
     "output_type": "execute_result"
    }
   ],
   "source": [
    "earthquakes_df = pandas.DataFrame.from_dict(rows_dict)\n",
    "earthquakes_df.head()"
   ]
  },
  {
   "cell_type": "code",
   "execution_count": 10,
   "metadata": {},
   "outputs": [
    {
     "data": {
      "text/html": [
       "<div>\n",
       "<style>\n",
       "    .dataframe thead tr:only-child th {\n",
       "        text-align: right;\n",
       "    }\n",
       "\n",
       "    .dataframe thead th {\n",
       "        text-align: left;\n",
       "    }\n",
       "\n",
       "    .dataframe tbody tr th {\n",
       "        vertical-align: top;\n",
       "    }\n",
       "</style>\n",
       "<table border=\"1\" class=\"dataframe\">\n",
       "  <thead>\n",
       "    <tr style=\"text-align: right;\">\n",
       "      <th></th>\n",
       "      <th>day</th>\n",
       "      <th>hour</th>\n",
       "      <th>minute</th>\n",
       "      <th>month</th>\n",
       "      <th>year</th>\n",
       "    </tr>\n",
       "  </thead>\n",
       "  <tbody>\n",
       "    <tr>\n",
       "      <th>count</th>\n",
       "      <td>5407.000000</td>\n",
       "      <td>3936.000000</td>\n",
       "      <td>3731.000000</td>\n",
       "      <td>5558.000000</td>\n",
       "      <td>5963.000000</td>\n",
       "    </tr>\n",
       "    <tr>\n",
       "      <th>mean</th>\n",
       "      <td>15.750139</td>\n",
       "      <td>11.301067</td>\n",
       "      <td>28.777272</td>\n",
       "      <td>6.505218</td>\n",
       "      <td>1798.479624</td>\n",
       "    </tr>\n",
       "    <tr>\n",
       "      <th>std</th>\n",
       "      <td>8.750386</td>\n",
       "      <td>7.030054</td>\n",
       "      <td>17.146287</td>\n",
       "      <td>3.448569</td>\n",
       "      <td>380.277202</td>\n",
       "    </tr>\n",
       "    <tr>\n",
       "      <th>min</th>\n",
       "      <td>1.000000</td>\n",
       "      <td>0.000000</td>\n",
       "      <td>0.000000</td>\n",
       "      <td>1.000000</td>\n",
       "      <td>-2150.000000</td>\n",
       "    </tr>\n",
       "    <tr>\n",
       "      <th>25%</th>\n",
       "      <td>8.000000</td>\n",
       "      <td>5.000000</td>\n",
       "      <td>14.000000</td>\n",
       "      <td>4.000000</td>\n",
       "      <td>1812.000000</td>\n",
       "    </tr>\n",
       "    <tr>\n",
       "      <th>50%</th>\n",
       "      <td>16.000000</td>\n",
       "      <td>11.000000</td>\n",
       "      <td>29.000000</td>\n",
       "      <td>7.000000</td>\n",
       "      <td>1925.000000</td>\n",
       "    </tr>\n",
       "    <tr>\n",
       "      <th>75%</th>\n",
       "      <td>23.000000</td>\n",
       "      <td>17.000000</td>\n",
       "      <td>43.000000</td>\n",
       "      <td>9.000000</td>\n",
       "      <td>1984.000000</td>\n",
       "    </tr>\n",
       "    <tr>\n",
       "      <th>max</th>\n",
       "      <td>31.000000</td>\n",
       "      <td>23.000000</td>\n",
       "      <td>59.000000</td>\n",
       "      <td>12.000000</td>\n",
       "      <td>2017.000000</td>\n",
       "    </tr>\n",
       "  </tbody>\n",
       "</table>\n",
       "</div>"
      ],
      "text/plain": [
       "               day         hour       minute        month         year\n",
       "count  5407.000000  3936.000000  3731.000000  5558.000000  5963.000000\n",
       "mean     15.750139    11.301067    28.777272     6.505218  1798.479624\n",
       "std       8.750386     7.030054    17.146287     3.448569   380.277202\n",
       "min       1.000000     0.000000     0.000000     1.000000 -2150.000000\n",
       "25%       8.000000     5.000000    14.000000     4.000000  1812.000000\n",
       "50%      16.000000    11.000000    29.000000     7.000000  1925.000000\n",
       "75%      23.000000    17.000000    43.000000     9.000000  1984.000000\n",
       "max      31.000000    23.000000    59.000000    12.000000  2017.000000"
      ]
     },
     "execution_count": 10,
     "metadata": {},
     "output_type": "execute_result"
    }
   ],
   "source": [
    "earthquakes_df.describe()"
   ]
  },
  {
   "cell_type": "markdown",
   "metadata": {},
   "source": [
    "From this, we can tell that out of 5963 data points, only 5558 have values for month, 5407 have values for day, and 3936 for hour."
   ]
  },
  {
   "cell_type": "markdown",
   "metadata": {},
   "source": [
    "We can also take a peak at the distribution of our data by year using pandas' built in integration with Matplotlib:"
   ]
  },
  {
   "cell_type": "code",
   "execution_count": 11,
   "metadata": {},
   "outputs": [
    {
     "data": {
      "text/plain": [
       "array([[<matplotlib.axes._subplots.AxesSubplot object at 0x7fafa38f5128>]], dtype=object)"
      ]
     },
     "execution_count": 11,
     "metadata": {},
     "output_type": "execute_result"
    },
    {
     "data": {
      "image/png": "[encoded data removed]",
      "text/plain": [
       "<matplotlib.figure.Figure at 0x7fafa3b43588>"
      ]
     },
     "metadata": {},
     "output_type": "display_data"
    }
   ],
   "source": [
    "earthquakes_df.hist(column=\"year\")"
   ]
  },
  {
   "cell_type": "markdown",
   "metadata": {},
   "source": [
    "### Check usable rows\n",
    "\n",
    "Some rows might not have entries for specific columns such as month, day, or even location. Let's take a look at this:"
   ]
  },
  {
   "cell_type": "markdown",
   "metadata": {},
   "source": [
    "Right away, we can tell that all items after 1932 have month data because 1932 was the last year where we encountered a null month value:"
   ]
  },
  {
   "cell_type": "code",
   "execution_count": 12,
   "metadata": {},
   "outputs": [
    {
     "data": {
      "text/plain": [
       "1932"
      ]
     },
     "execution_count": 12,
     "metadata": {},
     "output_type": "execute_result"
    }
   ],
   "source": [
    "earthquakes_df[earthquakes_df[\"month\"].isnull()][\"year\"].max()"
   ]
  },
  {
   "cell_type": "markdown",
   "metadata": {},
   "source": [
    "All entries after 1957 have complete values for day:"
   ]
  },
  {
   "cell_type": "code",
   "execution_count": 13,
   "metadata": {},
   "outputs": [
    {
     "data": {
      "text/plain": [
       "1957"
      ]
     },
     "execution_count": 13,
     "metadata": {},
     "output_type": "execute_result"
    }
   ],
   "source": [
    "earthquakes_df[earthquakes_df[\"day\"].isnull()][\"year\"].max()"
   ]
  },
  {
   "cell_type": "markdown",
   "metadata": {},
   "source": [
    "All rows after 1977 have data for hour:"
   ]
  },
  {
   "cell_type": "code",
   "execution_count": 14,
   "metadata": {},
   "outputs": [
    {
     "data": {
      "text/plain": [
       "1977"
      ]
     },
     "execution_count": 14,
     "metadata": {},
     "output_type": "execute_result"
    }
   ],
   "source": [
    "earthquakes_df[earthquakes_df[\"hour\"].isnull()][\"year\"].max()"
   ]
  },
  {
   "cell_type": "markdown",
   "metadata": {},
   "source": [
    "The rest are pretty self expalatory..."
   ]
  },
  {
   "cell_type": "code",
   "execution_count": 15,
   "metadata": {},
   "outputs": [
    {
     "data": {
      "text/plain": [
       "1992"
      ]
     },
     "execution_count": 15,
     "metadata": {},
     "output_type": "execute_result"
    }
   ],
   "source": [
    "earthquakes_df[earthquakes_df[\"minute\"].isnull()][\"year\"].max()"
   ]
  },
  {
   "cell_type": "code",
   "execution_count": 16,
   "metadata": {},
   "outputs": [
    {
     "data": {
      "text/plain": [
       "1992"
      ]
     },
     "execution_count": 16,
     "metadata": {},
     "output_type": "execute_result"
    }
   ],
   "source": [
    "earthquakes_df[earthquakes_df[\"second\"].isnull()][\"year\"].max()"
   ]
  },
  {
   "cell_type": "code",
   "execution_count": 17,
   "metadata": {},
   "outputs": [
    {
     "data": {
      "text/plain": [
       "1978"
      ]
     },
     "execution_count": 17,
     "metadata": {},
     "output_type": "execute_result"
    }
   ],
   "source": [
    "earthquakes_df[earthquakes_df[\"location\"].isnull()][\"year\"].max()"
   ]
  },
  {
   "cell_type": "markdown",
   "metadata": {},
   "source": [
    "### Save data into CSV"
   ]
  },
  {
   "cell_type": "code",
   "execution_count": 18,
   "metadata": {
    "collapsed": true
   },
   "outputs": [],
   "source": [
    "earthquakes_df.to_csv('earthquakes.csv')"
   ]
  }
 ],
 "metadata": {
  "kernelspec": {
   "display_name": "Python 3",
   "language": "python",
   "name": "python3"
  },
  "language_info": {
   "codemirror_mode": {
    "name": "ipython",
    "version": 3
   },
   "file_extension": ".py",
   "mimetype": "text/x-python",
   "name": "python",
   "nbconvert_exporter": "python",
   "pygments_lexer": "ipython3",
   "version": "3.6.3"
  }
 },
 "nbformat": 4,
 "nbformat_minor": 2
}
